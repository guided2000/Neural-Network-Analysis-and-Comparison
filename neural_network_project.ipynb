{
 "cells": [
  {
   "cell_type": "markdown",
   "id": "5b4c7a43",
   "metadata": {},
   "source": [
    "# به نام خدا\n",
    "پروژه تحلیل شبکه‌های عصبی\n",
    "\n",
    "در این پروژه، مدل‌های شبکه عصبی با استفاده از داده‌های مصنوعی مورد تحلیل و ارزیابی قرار می‌گیرند. مراحل مختلف پروژه شامل ایجاد داده، تقسیم داده به آموزش و آزمایش، آموزش مدل‌ها با یک و دو لایه پنهان، و مقایسه عملکرد مدل‌ها با استفاده از نمودار می‌باشد."
   ]
  },
  {
   "cell_type": "markdown",
   "id": "d02532c2",
   "metadata": {},
   "source": [
    "## مرحله 1: ایجاد مجموعه داده مصنوعی\n",
    "در این بخش، مجموعه داده مصنوعی با سه ویژگی و متغیر هدف تولید می‌شود. نوع مسئله می‌تواند رگرسیون یا طبقه‌بندی باشد."
   ]
  },
  {
   "cell_type": "code",
   "execution_count": null,
   "id": "1979f028",
   "metadata": {},
   "outputs": [],
   "source": [
    "import numpy as np\n",
    "import pandas as pd\n",
    "\n",
    "# ایجاد داده مصنوعی\n",
    "def create_synthetic_data(task_type='regression', n_samples=500):\n",
    "    np.random.seed(42)\n",
    "    X = np.random.rand(n_samples, 3) * 10  # سه ویژگی مستقل\n",
    "    if task_type == 'regression':\n",
    "        y = 3 * X[:, 0] + 2 * X[:, 1] - X[:, 2] + np.random.randn(n_samples) * 2  # متغیر هدف پیوسته\n",
    "    elif task_type == 'classification':\n",
    "        y = (X[:, 0] + X[:, 1] - X[:, 2] > 15).astype(int)  # متغیر هدف طبقه‌بندی\n",
    "    else:\n",
    "        raise ValueError(\"Invalid task_type. Choose 'regression' or 'classification'.\")\n",
    "    return X, y\n",
    "\n",
    "# تنظیم نوع مسئله (رگرسیون یا طبقه‌بندی)\n",
    "task_type = 'classification'  # یا 'regression'\n",
    "X, y = create_synthetic_data(task_type=task_type)"
   ]
  },
  {
   "cell_type": "markdown",
   "id": "ca16ca11",
   "metadata": {},
   "source": [
    "## مرحله 2: تقسیم داده‌ها به دو بخش آموزشی و آزمایشی\n",
    "70 درصد داده‌ها برای آموزش و 30 درصد برای آزمایش در نظر گرفته می‌شوند."
   ]
  },
  {
   "cell_type": "code",
   "execution_count": null,
   "id": "25134c86",
   "metadata": {},
   "outputs": [],
   "source": [
    "from sklearn.model_selection import train_test_split\n",
    "\n",
    "X_train, X_test, y_train, y_test = train_test_split(X, y, test_size=0.3, random_state=42)"
   ]
  },
  {
   "cell_type": "markdown",
   "id": "fc4a3a03",
   "metadata": {},
   "source": [
    "## مرحله 3: ارزیابی اولیه با اعتبارسنجی 10 بخشی (10-fold Cross-Validation)\n",
    "در این مرحله، داده‌ها به 10 بخش تقسیم شده و مدل‌ها به صورت متقاطع ارزیابی می‌شوند."
   ]
  },
  {
   "cell_type": "code",
   "execution_count": null,
   "id": "c8e89866",
   "metadata": {},
   "outputs": [],
   "source": [
    "from sklearn.model_selection import KFold\n",
    "\n",
    "kf = KFold(n_splits=10, shuffle=True, random_state=42)"
   ]
  },
  {
   "cell_type": "markdown",
   "id": "e1885cc9",
   "metadata": {},
   "source": [
    "## مرحله 4: آموزش مدل با یک لایه پنهان\n",
    "مدل شبکه عصبی با مقادیر مختلف برای تعداد نورون‌ها در لایه پنهان ارزیابی می‌شود."
   ]
  },
  {
   "cell_type": "code",
   "execution_count": null,
   "id": "78eea02f",
   "metadata": {},
   "outputs": [],
   "source": [
    "from sklearn.neural_network import MLPClassifier, MLPRegressor\n",
    "from sklearn.model_selection import cross_val_score\n",
    "\n",
    "hidden_layer_sizes = [(10,), (50,), (100,)]\n",
    "results_one_layer = []\n",
    "\n",
    "for h in hidden_layer_sizes:\n",
    "    if task_type == 'regression':\n",
    "        model = MLPRegressor(hidden_layer_sizes=h, max_iter=1000, random_state=42)\n",
    "    else:\n",
    "        model = MLPClassifier(hidden_layer_sizes=h, max_iter=1000, random_state=42)\n",
    "\n",
    "    cv_scores = cross_val_score(model, X, y, cv=kf, scoring='accuracy' if task_type == 'classification' else 'neg_mean_squared_error')\n",
    "    mean_score = np.mean(cv_scores)\n",
    "    results_one_layer.append((h, mean_score))\n",
    "\n",
    "print(\"نتایج شبکه عصبی با یک لایه پنهان:\")\n",
    "for h, score in results_one_layer:\n",
    "    print(f\"ساختار لایه: {h}, میانگین امتیاز: {score:.4f}\")"
   ]
  },
  {
   "cell_type": "markdown",
   "id": "32661b01",
   "metadata": {},
   "source": [
    "## مرحله 5: آموزش مدل با دو لایه پنهان\n",
    "مدل شبکه عصبی با مقادیر مختلف برای تعداد نورون‌ها در دو لایه پنهان ارزیابی می‌شود."
   ]
  },
  {
   "cell_type": "code",
   "execution_count": null,
   "id": "acdbe6a7",
   "metadata": {},
   "outputs": [],
   "source": [
    "hidden_layer_sizes = [(10, 10), (50, 50), (100, 100)]\n",
    "results_two_layers = []\n",
    "\n",
    "for h in hidden_layer_sizes:\n",
    "    if task_type == 'regression':\n",
    "        model = MLPRegressor(hidden_layer_sizes=h, max_iter=1000, random_state=42)\n",
    "    else:\n",
    "        model = MLPClassifier(hidden_layer_sizes=h, max_iter=1000, random_state=42)\n",
    "\n",
    "    cv_scores = cross_val_score(model, X, y, cv=kf, scoring='accuracy' if task_type == 'classification' else 'neg_mean_squared_error')\n",
    "    mean_score = np.mean(cv_scores)\n",
    "    results_two_layers.append((h, mean_score))\n",
    "\n",
    "print(\"\\nنتایج شبکه عصبی با دو لایه پنهان:\")\n",
    "for h, score in results_two_layers:\n",
    "    print(f\"ساختار لایه‌ها: {h}, میانگین امتیاز: {score:.4f}\")"
   ]
  },
  {
   "cell_type": "markdown",
   "id": "6be4cb58",
   "metadata": {},
   "source": [
    "## مرحله 6: ارزیابی نهایی روی داده‌های آزمایشی\n",
    "بهترین مدل از بخش قبل برای پیش‌بینی داده‌های آزمایشی استفاده می‌شود و نتایج آن بررسی می‌گردد."
   ]
  },
  {
   "cell_type": "code",
   "execution_count": null,
   "id": "89d318fe",
   "metadata": {},
   "outputs": [],
   "source": [
    "best_model = MLPClassifier(hidden_layer_sizes=(50,), max_iter=1000, random_state=42)\n",
    "best_model.fit(X_train, y_train)\n",
    "\n",
    "if task_type == 'classification':\n",
    "    predictions = best_model.predict(X_test)\n",
    "    test_score = accuracy_score(y_test, predictions)\n",
    "    print(\"\\nدقت روی داده‌های آزمایشی:\", test_score)\n",
    "else:\n",
    "    predictions = best_model.predict(X_test)\n",
    "    test_score = mean_squared_error(y_test, predictions)\n",
    "    print(f\"\\nخطای میانگین مربعات: {test_score:.4f}\")"
   ]
  },
  {
   "cell_type": "markdown",
   "id": "542756f1",
   "metadata": {},
   "source": [
    "## مرحله 7: رسم نمودار مقایسه‌ای\n",
    "نمودار مقایسه‌ای عملکرد مدل‌ها با یک و دو لایه پنهان ترسیم می‌شود."
   ]
  },
  {
   "cell_type": "code",
   "execution_count": null,
   "id": "0ba31ef6",
   "metadata": {},
   "outputs": [],
   "source": [
    "import matplotlib.pyplot as plt\n",
    "\n",
    "plt.figure(figsize=(10, 6))\n",
    "plt.bar([str(h[0]) for h, _ in results_one_layer], [s for _, s in results_one_layer], label='یک لایه')\n",
    "plt.bar([str(h[0]) for h, _ in results_two_layers], [s for _, s in results_two_layers], label='دو لایه')\n",
    "plt.xlabel('ساختار لایه‌ها')\n",
    "plt.ylabel('میانگین امتیاز')\n",
    "plt.title('مقایسه عملکرد مدل‌ها')\n",
    "plt.legend()\n",
    "plt.show()"
   ]
  }
 ],
 "metadata": {},
 "nbformat": 4,
 "nbformat_minor": 5
}